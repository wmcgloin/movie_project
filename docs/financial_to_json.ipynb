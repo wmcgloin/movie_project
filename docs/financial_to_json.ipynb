{
 "cells": [
  {
   "cell_type": "code",
   "execution_count": 1,
   "metadata": {},
   "outputs": [
    {
     "data": {
      "text/html": [
       "<div>\n",
       "<style scoped>\n",
       "    .dataframe tbody tr th:only-of-type {\n",
       "        vertical-align: middle;\n",
       "    }\n",
       "\n",
       "    .dataframe tbody tr th {\n",
       "        vertical-align: top;\n",
       "    }\n",
       "\n",
       "    .dataframe thead th {\n",
       "        text-align: right;\n",
       "    }\n",
       "</style>\n",
       "<table border=\"1\" class=\"dataframe\">\n",
       "  <thead>\n",
       "    <tr style=\"text-align: right;\">\n",
       "      <th></th>\n",
       "      <th>tconst</th>\n",
       "      <th>budget</th>\n",
       "      <th>box_office</th>\n",
       "    </tr>\n",
       "  </thead>\n",
       "  <tbody>\n",
       "    <tr>\n",
       "      <th>0</th>\n",
       "      <td>tt0111161</td>\n",
       "      <td>25000000.0</td>\n",
       "      <td>2.890662e+07</td>\n",
       "    </tr>\n",
       "    <tr>\n",
       "      <th>1</th>\n",
       "      <td>tt0468569</td>\n",
       "      <td>185000000.0</td>\n",
       "      <td>1.008487e+09</td>\n",
       "    </tr>\n",
       "    <tr>\n",
       "      <th>2</th>\n",
       "      <td>tt1375666</td>\n",
       "      <td>160000000.0</td>\n",
       "      <td>8.390306e+08</td>\n",
       "    </tr>\n",
       "    <tr>\n",
       "      <th>3</th>\n",
       "      <td>tt0137523</td>\n",
       "      <td>63000000.0</td>\n",
       "      <td>1.013201e+08</td>\n",
       "    </tr>\n",
       "    <tr>\n",
       "      <th>4</th>\n",
       "      <td>tt0109830</td>\n",
       "      <td>55000000.0</td>\n",
       "      <td>6.782265e+08</td>\n",
       "    </tr>\n",
       "    <tr>\n",
       "      <th>5</th>\n",
       "      <td>tt0110912</td>\n",
       "      <td>8000000.0</td>\n",
       "      <td>2.139288e+08</td>\n",
       "    </tr>\n",
       "    <tr>\n",
       "      <th>6</th>\n",
       "      <td>tt0816692</td>\n",
       "      <td>165000000.0</td>\n",
       "      <td>7.332022e+08</td>\n",
       "    </tr>\n",
       "    <tr>\n",
       "      <th>7</th>\n",
       "      <td>tt0133093</td>\n",
       "      <td>63000000.0</td>\n",
       "      <td>4.676233e+08</td>\n",
       "    </tr>\n",
       "    <tr>\n",
       "      <th>8</th>\n",
       "      <td>tt0068646</td>\n",
       "      <td>6000000.0</td>\n",
       "      <td>2.503420e+08</td>\n",
       "    </tr>\n",
       "    <tr>\n",
       "      <th>9</th>\n",
       "      <td>tt0120737</td>\n",
       "      <td>93000000.0</td>\n",
       "      <td>8.840417e+08</td>\n",
       "    </tr>\n",
       "    <tr>\n",
       "      <th>10</th>\n",
       "      <td>tt0167260</td>\n",
       "      <td>94000000.0</td>\n",
       "      <td>1.156599e+09</td>\n",
       "    </tr>\n",
       "    <tr>\n",
       "      <th>11</th>\n",
       "      <td>tt1345836</td>\n",
       "      <td>250000000.0</td>\n",
       "      <td>1.085289e+09</td>\n",
       "    </tr>\n",
       "    <tr>\n",
       "      <th>12</th>\n",
       "      <td>tt0114369</td>\n",
       "      <td>33000000.0</td>\n",
       "      <td>3.273336e+08</td>\n",
       "    </tr>\n",
       "    <tr>\n",
       "      <th>13</th>\n",
       "      <td>tt0167261</td>\n",
       "      <td>94000000.0</td>\n",
       "      <td>9.489455e+08</td>\n",
       "    </tr>\n",
       "    <tr>\n",
       "      <th>14</th>\n",
       "      <td>tt1853728</td>\n",
       "      <td>100000000.0</td>\n",
       "      <td>4.260763e+08</td>\n",
       "    </tr>\n",
       "    <tr>\n",
       "      <th>15</th>\n",
       "      <td>tt0172495</td>\n",
       "      <td>103000000.0</td>\n",
       "      <td>4.653872e+08</td>\n",
       "    </tr>\n",
       "    <tr>\n",
       "      <th>16</th>\n",
       "      <td>tt0361748</td>\n",
       "      <td>70000000.0</td>\n",
       "      <td>3.214586e+08</td>\n",
       "    </tr>\n",
       "    <tr>\n",
       "      <th>17</th>\n",
       "      <td>tt0993846</td>\n",
       "      <td>100000000.0</td>\n",
       "      <td>4.070394e+08</td>\n",
       "    </tr>\n",
       "    <tr>\n",
       "      <th>18</th>\n",
       "      <td>tt0372784</td>\n",
       "      <td>150000000.0</td>\n",
       "      <td>3.753257e+08</td>\n",
       "    </tr>\n",
       "    <tr>\n",
       "      <th>19</th>\n",
       "      <td>tt0102926</td>\n",
       "      <td>19000000.0</td>\n",
       "      <td>2.727429e+08</td>\n",
       "    </tr>\n",
       "  </tbody>\n",
       "</table>\n",
       "</div>"
      ],
      "text/plain": [
       "       tconst       budget    box_office\n",
       "0   tt0111161   25000000.0  2.890662e+07\n",
       "1   tt0468569  185000000.0  1.008487e+09\n",
       "2   tt1375666  160000000.0  8.390306e+08\n",
       "3   tt0137523   63000000.0  1.013201e+08\n",
       "4   tt0109830   55000000.0  6.782265e+08\n",
       "5   tt0110912    8000000.0  2.139288e+08\n",
       "6   tt0816692  165000000.0  7.332022e+08\n",
       "7   tt0133093   63000000.0  4.676233e+08\n",
       "8   tt0068646    6000000.0  2.503420e+08\n",
       "9   tt0120737   93000000.0  8.840417e+08\n",
       "10  tt0167260   94000000.0  1.156599e+09\n",
       "11  tt1345836  250000000.0  1.085289e+09\n",
       "12  tt0114369   33000000.0  3.273336e+08\n",
       "13  tt0167261   94000000.0  9.489455e+08\n",
       "14  tt1853728  100000000.0  4.260763e+08\n",
       "15  tt0172495  103000000.0  4.653872e+08\n",
       "16  tt0361748   70000000.0  3.214586e+08\n",
       "17  tt0993846  100000000.0  4.070394e+08\n",
       "18  tt0372784  150000000.0  3.753257e+08\n",
       "19  tt0102926   19000000.0  2.727429e+08"
      ]
     },
     "execution_count": 1,
     "metadata": {},
     "output_type": "execute_result"
    }
   ],
   "source": [
    "import numpy as np\n",
    "import pandas as pd\n",
    "\n",
    "df = pd.read_csv('../data/clean_data/financial_info.csv')\n",
    "\n",
    "df.head(20)"
   ]
  },
  {
   "cell_type": "code",
   "execution_count": 3,
   "metadata": {},
   "outputs": [
    {
     "data": {
      "text/plain": [
       "(2166, 3)"
      ]
     },
     "execution_count": 3,
     "metadata": {},
     "output_type": "execute_result"
    }
   ],
   "source": [
    "df.shape"
   ]
  },
  {
   "cell_type": "code",
   "execution_count": 4,
   "metadata": {},
   "outputs": [
    {
     "data": {
      "text/plain": [
       "(2166, 3)"
      ]
     },
     "execution_count": 4,
     "metadata": {},
     "output_type": "execute_result"
    }
   ],
   "source": [
    "# drop duplicates\n",
    "df = df.drop_duplicates()\n",
    "\n",
    "df.shape"
   ]
  },
  {
   "cell_type": "code",
   "execution_count": 5,
   "metadata": {},
   "outputs": [
    {
     "data": {
      "text/plain": [
       "(2071, 3)"
      ]
     },
     "execution_count": 5,
     "metadata": {},
     "output_type": "execute_result"
    }
   ],
   "source": [
    "# remove NA\n",
    "df = df.dropna()\n",
    "\n",
    "df.shape"
   ]
  },
  {
   "cell_type": "code",
   "execution_count": 6,
   "metadata": {},
   "outputs": [],
   "source": [
    "# output to json\n",
    "df.to_json('../data/clean_data/financial_info.json', orient='records')"
   ]
  }
 ],
 "metadata": {
  "kernelspec": {
   "display_name": "gtown",
   "language": "python",
   "name": "python3"
  },
  "language_info": {
   "codemirror_mode": {
    "name": "ipython",
    "version": 3
   },
   "file_extension": ".py",
   "mimetype": "text/x-python",
   "name": "python",
   "nbconvert_exporter": "python",
   "pygments_lexer": "ipython3",
   "version": "3.11.7"
  }
 },
 "nbformat": 4,
 "nbformat_minor": 2
}
